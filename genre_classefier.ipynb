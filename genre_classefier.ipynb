{
 "cells": [
  {
   "cell_type": "code",
   "execution_count": 55,
   "metadata": {},
   "outputs": [],
   "source": [
    "import pandas as pd\n",
    "from sklearn.feature_extraction.text import TfidfVectorizer\n",
    "import re\n",
    "from sklearn.linear_model import LogisticRegression\n",
    "from sklearn.metrics import classification_report, accuracy_score"
   ]
  },
  {
   "cell_type": "markdown",
   "metadata": {},
   "source": [
    "Train data:\n",
    "ID ::: TITLE ::: GENRE ::: DESCRIPTION\n",
    "ID ::: TITLE ::: GENRE ::: DESCRIPTION\n",
    "ID ::: TITLE ::: GENRE ::: DESCRIPTION\n",
    "ID ::: TITLE ::: GENRE ::: DESCRIPTION\n",
    "\n",
    "Test data:\n",
    "ID ::: TITLE ::: DESCRIPTION\n",
    "ID ::: TITLE ::: DESCRIPTION\n",
    "ID ::: TITLE ::: DESCRIPTION\n",
    "ID ::: TITLE ::: DESCRIPTION\n"
   ]
  },
  {
   "cell_type": "code",
   "execution_count": 56,
   "metadata": {},
   "outputs": [],
   "source": [
    "def readData(filename):\n",
    "    train_data = []\n",
    "    test_data = []\n",
    "    train = True\n",
    "    with open (filename , 'r') as file:\n",
    "        for line in file:\n",
    "            line.lower()\n",
    "            components = line.strip().split(' ::: ')\n",
    "            if len(components) == 4:  # train data\n",
    "                data_entry = {\n",
    "                    'TITLE': components[1],\n",
    "                    'GENRE': components[2],\n",
    "                    'DESCRIPTION': components[3]\n",
    "                }\n",
    "                train_data.append(data_entry)\n",
    "            \n",
    "            elif len(components) == 3:  # test data\n",
    "                data_entry = {\n",
    "                    'TITLE': components[1],\n",
    "                    'DESCRIPTION': components[2]\n",
    "                }\n",
    "                test_data.append(data_entry)\n",
    "                train = False\n",
    "        if(train):\n",
    "          train_df = pd.DataFrame(train_data)\n",
    "          return train_df\n",
    "        else:\n",
    "          test_df = pd.DataFrame(test_data)\n",
    "          return test_df"
   ]
  },
  {
   "cell_type": "code",
   "execution_count": 57,
   "metadata": {},
   "outputs": [],
   "source": [
    "train = readData('train_data.txt')\n",
    "test = readData('test_data.txt')\n",
    "y_sol = readData('test_data_solution.txt')\n",
    "\n",
    "\n",
    "def remove_non_chars(text):\n",
    "    lowercase_text = text.lower()\n",
    "    return re.sub(r'[^\\w\\s]', '', lowercase_text)\n",
    "\n",
    "x_train = train['TITLE'].apply(remove_non_chars) + ' ' +train['DESCRIPTION'].apply(remove_non_chars)\n",
    "x_test = test['TITLE'].apply(remove_non_chars) + ' ' +test['DESCRIPTION'].apply(remove_non_chars)\n",
    "y_train = train['GENRE']\n",
    "y_test = y_sol['GENRE']"
   ]
  },
  {
   "cell_type": "code",
   "execution_count": 73,
   "metadata": {},
   "outputs": [],
   "source": [
    "tfidf_vectorizer = TfidfVectorizer(stop_words='english', ngram_range=(1, 2), max_features=15000 ,min_df=6)  \n",
    "\n",
    "X_train_tfidf = tfidf_vectorizer.fit_transform(x_train)\n",
    "\n",
    "X_test_tfidf = tfidf_vectorizer.transform(x_test)"
   ]
  },
  {
   "cell_type": "code",
   "execution_count": 77,
   "metadata": {},
   "outputs": [
    {
     "name": "stderr",
     "output_type": "stream",
     "text": [
      "c:\\Users\\nadaa\\anaconda3\\Lib\\site-packages\\sklearn\\linear_model\\_logistic.py:460: ConvergenceWarning: lbfgs failed to converge (status=1):\n",
      "STOP: TOTAL NO. of ITERATIONS REACHED LIMIT.\n",
      "\n",
      "Increase the number of iterations (max_iter) or scale the data as shown in:\n",
      "    https://scikit-learn.org/stable/modules/preprocessing.html\n",
      "Please also refer to the documentation for alternative solver options:\n",
      "    https://scikit-learn.org/stable/modules/linear_model.html#logistic-regression\n",
      "  n_iter_i = _check_optimize_result(\n"
     ]
    },
    {
     "name": "stdout",
     "output_type": "stream",
     "text": [
      "Classification Report:\n",
      "              precision    recall  f1-score   support\n",
      "\n",
      "      action       0.48      0.38      0.43      1314\n",
      "       adult       0.60      0.42      0.49       590\n",
      "   adventure       0.47      0.25      0.33       775\n",
      "   animation       0.43      0.16      0.23       498\n",
      "   biography       0.00      0.00      0.00       264\n",
      "      comedy       0.55      0.60      0.58      7446\n",
      "       crime       0.25      0.08      0.12       505\n",
      " documentary       0.71      0.83      0.77     13096\n",
      "       drama       0.58      0.72      0.64     13612\n",
      "      family       0.41      0.17      0.24       783\n",
      "     fantasy       0.31      0.12      0.18       322\n",
      "   game-show       0.86      0.59      0.70       193\n",
      "     history       0.25      0.01      0.02       243\n",
      "      horror       0.67      0.63      0.65      2204\n",
      "       music       0.63      0.53      0.57       731\n",
      "     musical       0.22      0.08      0.12       276\n",
      "     mystery       0.35      0.08      0.12       318\n",
      "        news       0.64      0.20      0.30       181\n",
      "  reality-tv       0.51      0.32      0.40       883\n",
      "     romance       0.38      0.08      0.13       672\n",
      "      sci-fi       0.56      0.37      0.44       646\n",
      "       short       0.46      0.41      0.43      5072\n",
      "       sport       0.58      0.42      0.48       431\n",
      "   talk-show       0.52      0.36      0.42       391\n",
      "    thriller       0.36      0.21      0.27      1590\n",
      "         war       0.58      0.11      0.19       132\n",
      "     western       0.86      0.83      0.84      1032\n",
      "\n",
      "    accuracy                           0.60     54200\n",
      "   macro avg       0.49      0.33      0.37     54200\n",
      "weighted avg       0.58      0.60      0.58     54200\n",
      "\n",
      "Accuracy Score: 0.6003690036900369\n"
     ]
    }
   ],
   "source": [
    "model = LogisticRegression(C=5)\n",
    "\n",
    "model.fit(X_train_tfidf, y_train)\n",
    "\n",
    "y_pred = model.predict(X_test_tfidf)\n",
    "\n",
    "print(\"Classification Report:\")\n",
    "print(classification_report(y_test, y_pred))\n",
    "print(\"Accuracy Score:\", accuracy_score(y_test, y_pred))\n"
   ]
  }
 ],
 "metadata": {
  "kernelspec": {
   "display_name": "base",
   "language": "python",
   "name": "python3"
  },
  "language_info": {
   "codemirror_mode": {
    "name": "ipython",
    "version": 3
   },
   "file_extension": ".py",
   "mimetype": "text/x-python",
   "name": "python",
   "nbconvert_exporter": "python",
   "pygments_lexer": "ipython3",
   "version": "3.11.5"
  }
 },
 "nbformat": 4,
 "nbformat_minor": 2
}
