{
 "cells": [
  {
   "cell_type": "code",
   "execution_count": 1,
   "metadata": {},
   "outputs": [],
   "source": [
    "import pandas as pd\n",
    "from sklearn.model_selection import train_test_split\n",
    "from sklearn.feature_extraction.text import TfidfVectorizer\n",
    "from sklearn.naive_bayes import MultinomialNB\n",
    "import re\n",
    "from sklearn.metrics import classification_report, confusion_matrix, accuracy_score"
   ]
  },
  {
   "cell_type": "code",
   "execution_count": 2,
   "metadata": {},
   "outputs": [],
   "source": [
    "def remove_non_chars(text):\n",
    "    lowercase_text = text.lower()\n",
    "    return re.sub(r'[^\\w\\s]', '', lowercase_text)\n",
    "\n",
    "\n",
    "df = pd.read_csv('spam.csv', encoding='latin-1')\n",
    "df = df[['v1', 'v2']]  \n",
    "df.columns = ['label', 'message']\n",
    "df['message'] = df['message'].apply(remove_non_chars)\n",
    "\n",
    "\n",
    "vectorizer = TfidfVectorizer(stop_words='english' , ngram_range=(1,2))\n",
    "X = vectorizer.fit_transform(df['message'])\n",
    "\n",
    "y = df['label'].map({'ham': 0, 'spam': 1})\n",
    "\n",
    "X_train, X_test, y_train, y_test = train_test_split(X, y, test_size=0.2, random_state=42)"
   ]
  },
  {
   "cell_type": "code",
   "execution_count": 3,
   "metadata": {},
   "outputs": [
    {
     "name": "stdout",
     "output_type": "stream",
     "text": [
      "Accuracy: 0.9282511210762332\n",
      "              precision    recall  f1-score   support\n",
      "\n",
      "           0       0.93      1.00      0.96       965\n",
      "           1       0.97      0.48      0.64       150\n",
      "\n",
      "    accuracy                           0.93      1115\n",
      "   macro avg       0.95      0.74      0.80      1115\n",
      "weighted avg       0.93      0.93      0.92      1115\n",
      "\n",
      "[[963   2]\n",
      " [ 78  72]]\n"
     ]
    }
   ],
   "source": [
    "model = MultinomialNB(alpha=0.1)\n",
    "model.fit(X_train, y_train)\n",
    "\n",
    "y_pred = model.predict(X_test)\n",
    "print(\"Accuracy:\", accuracy_score(y_test, y_pred))\n",
    "print(classification_report(y_test, y_pred))\n",
    "print(confusion_matrix(y_test, y_pred))"
   ]
  },
  {
   "cell_type": "code",
   "execution_count": 4,
   "metadata": {},
   "outputs": [
    {
     "name": "stdout",
     "output_type": "stream",
     "text": [
      "Message: 'Congratulations! You've won a free ticket to Bahamas. Text WIN to 12345 to claim.'\n",
      "Predicted label: spam\n",
      "\n",
      "Message: 'Hey, are we still meeting for coffee tomorrow?'\n",
      "Predicted label: ham\n",
      "\n",
      "Message: 'Urgent! Your account has been compromised. Click here to secure your information.'\n",
      "Predicted label: ham\n",
      "\n",
      "Message: 'I’m running late, will be there in 10 minutes.'\n",
      "Predicted label: ham\n",
      "\n"
     ]
    }
   ],
   "source": [
    "sample_messages = [\n",
    "    \"Congratulations! You've won a free ticket to Bahamas. Text WIN to 12345 to claim.\",\n",
    "    \"Hey, are we still meeting for coffee tomorrow?\",\n",
    "    \"Urgent! Your account has been compromised. Click here to secure your information.\",\n",
    "    \"I’m running late, will be there in 10 minutes.\"\n",
    "]\n",
    "\n",
    "sample_messages_transformed = vectorizer.transform(sample_messages)\n",
    "\n",
    "predictions = model.predict(sample_messages_transformed)\n",
    "\n",
    "predicted_labels = ['spam' if label == 1 else 'ham' for label in predictions]\n",
    "\n",
    "for message, label in zip(sample_messages, predicted_labels):\n",
    "    print(f\"Message: '{message}'\\nPredicted label: {label}\\n\")\n"
   ]
  }
 ],
 "metadata": {
  "kernelspec": {
   "display_name": "base",
   "language": "python",
   "name": "python3"
  },
  "language_info": {
   "codemirror_mode": {
    "name": "ipython",
    "version": 3
   },
   "file_extension": ".py",
   "mimetype": "text/x-python",
   "name": "python",
   "nbconvert_exporter": "python",
   "pygments_lexer": "ipython3",
   "version": "3.11.5"
  }
 },
 "nbformat": 4,
 "nbformat_minor": 2
}
